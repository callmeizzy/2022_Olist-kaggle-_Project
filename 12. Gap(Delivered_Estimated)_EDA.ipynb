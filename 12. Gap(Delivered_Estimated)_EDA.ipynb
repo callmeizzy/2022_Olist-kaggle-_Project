{
 "cells": [
  {
   "cell_type": "markdown",
   "id": "bb5f75a5",
   "metadata": {},
   "source": [
    "# <올리스트 데이터 분석  - orders (주문데이터) 분석>\n",
    "\n",
    "dataset : olist_orders_dataset.csv \n",
    "- orders 테이블 항목과 관련된 가설 검증\n",
    "- 배송 예측 정확도 분석 (Gap(Delivered_Estimated)"
   ]
  },
  {
   "cell_type": "markdown",
   "id": "da380063",
   "metadata": {},
   "source": [
    "## 라이브러리 로드"
   ]
  },
  {
   "cell_type": "code",
   "execution_count": 1,
   "id": "4535635a",
   "metadata": {},
   "outputs": [],
   "source": [
    "# 핑크색 warning 안내문 방지 \n",
    "import warnings\n",
    "warnings.filterwarnings('ignore')"
   ]
  },
  {
   "cell_type": "code",
   "execution_count": 2,
   "id": "b899094f",
   "metadata": {},
   "outputs": [],
   "source": [
    "# 데이터 분석에 사용할 라이브러리를 불러옵니다\n",
    "import pandas as pd\n",
    "import seaborn as sns\n",
    "import numpy as np\n",
    "import matplotlib.pyplot as plt\n",
    "import datetime as dt"
   ]
  },
  {
   "cell_type": "markdown",
   "id": "f5552a34",
   "metadata": {},
   "source": [
    "## 폰트 로드"
   ]
  },
  {
   "cell_type": "code",
   "execution_count": 3,
   "id": "e27ccdbb",
   "metadata": {},
   "outputs": [],
   "source": [
    "def get_font_family():\n",
    "    \"\"\"\n",
    "    시스템 환경에 따른 기본 폰트명을 반환하는 함수\n",
    "    \"\"\"\n",
    "    import platform\n",
    "    system_name = platform.system()\n",
    "\n",
    "    if system_name == \"Darwin\" :\n",
    "        font_family = \"AppleGothic\"\n",
    "    elif system_name == \"Windows\":\n",
    "        font_family = \"Malgun Gothic\"\n",
    "    else:\n",
    "        # Linux(Colab)\n",
    "        !apt-get install fonts-nanum -qq  > /dev/null\n",
    "        !fc-cache -fv\n",
    "\n",
    "        import matplotlib as mpl\n",
    "        mpl.font_manager._rebuild()\n",
    "        findfont = mpl.font_manager.fontManager.findfont\n",
    "        mpl.font_manager.findfont = findfont\n",
    "        mpl.backends.backend_agg.findfont = findfont\n",
    "        \n",
    "        font_family = \"NanumBarunGothic\"\n",
    "    return font_family\n",
    "\n",
    "plt.rc(\"font\", family=get_font_family())\n",
    "plt.rc(\"axes\", unicode_minus=False)"
   ]
  },
  {
   "cell_type": "markdown",
   "id": "84b4c024",
   "metadata": {},
   "source": [
    "## 데이터로드"
   ]
  },
  {
   "cell_type": "code",
   "execution_count": 4,
   "id": "16cbf715",
   "metadata": {},
   "outputs": [],
   "source": [
    "import glob"
   ]
  },
  {
   "cell_type": "code",
   "execution_count": 5,
   "id": "46147feb",
   "metadata": {},
   "outputs": [
    {
     "data": {
      "text/plain": [
       "['data\\\\olist_customers_dataset.csv',\n",
       " 'data\\\\olist_geolocation_dataset.csv',\n",
       " 'data\\\\olist_orders_dataset.csv',\n",
       " 'data\\\\olist_order_items_dataset.csv',\n",
       " 'data\\\\olist_order_payments_dataset.csv',\n",
       " 'data\\\\olist_order_reviews_dataset.csv',\n",
       " 'data\\\\olist_products_dataset.csv',\n",
       " 'data\\\\olist_sellers_dataset.csv',\n",
       " 'data\\\\product_category_name_translation.csv']"
      ]
     },
     "execution_count": 5,
     "metadata": {},
     "output_type": "execute_result"
    }
   ],
   "source": [
    "path = glob.glob('data/*.csv')\n",
    "path"
   ]
  },
  {
   "cell_type": "code",
   "execution_count": 6,
   "id": "fab35ff9",
   "metadata": {},
   "outputs": [],
   "source": [
    "# 주문 정보를 order라는 데이터프레임에 담을것 \n",
    "order = pd.read_csv(path[2])"
   ]
  },
  {
   "cell_type": "markdown",
   "id": "29173ec9",
   "metadata": {},
   "source": [
    "## 데이터 미리보기 및 요약"
   ]
  },
  {
   "cell_type": "code",
   "execution_count": 7,
   "id": "30b1aa8a",
   "metadata": {},
   "outputs": [
    {
     "data": {
      "text/plain": [
       "(99441, 8)"
      ]
     },
     "execution_count": 7,
     "metadata": {},
     "output_type": "execute_result"
    }
   ],
   "source": [
    "order.shape\n",
    "# 99441개의 인덱스(행)과 8개의 컬럼(열)이 있다는 뜻"
   ]
  },
  {
   "cell_type": "code",
   "execution_count": 8,
   "id": "e16ea78c",
   "metadata": {
    "scrolled": false
   },
   "outputs": [
    {
     "data": {
      "text/plain": [
       "Index(['order_id', 'customer_id', 'order_status', 'order_purchase_timestamp',\n",
       "       'order_approved_at', 'order_delivered_carrier_date',\n",
       "       'order_delivered_customer_date', 'order_estimated_delivery_date'],\n",
       "      dtype='object')"
      ]
     },
     "execution_count": 8,
     "metadata": {},
     "output_type": "execute_result"
    }
   ],
   "source": [
    "order.columns"
   ]
  },
  {
   "cell_type": "markdown",
   "id": "026d884f",
   "metadata": {},
   "source": [
    "각 컬럼들 정보 \n",
    "\n",
    "- order_id : 주문번호 \n",
    "- customer_id : 고객번호 - 근데 요거 path[0] 보면 customer_id는 구매시마다 새로 생기는 id임. customer_unique_id가 진짜 고객 번호\n",
    "\n",
    "                즉, order 테이블에서는 어떤 고객이 뭘 샀는지는 알 수 없지만 시계열데이터를 알아볼 수 있음 \n",
    "- order_status : 주문상태\n",
    "- order_purchase_timestamp : 주문일자 \n",
    "- order_approved_at : 지불승인일자 (금융사 카드결제/ 통장입금확인되어 주문이 매출로 잡히는 시간 같음)\n",
    "- order_delivered_carrier_date : 송장 나온날짜\n",
    "- order_delivered_customer_date  : 배송완료일자(수령일자)\n",
    "- order_estimated_delivery_date : 예상배송일자"
   ]
  },
  {
   "cell_type": "markdown",
   "id": "dc364e5f",
   "metadata": {},
   "source": [
    "# 검증하고자 하는 가설 :  배송 예측 정확도 분석 (Gap(Delivered_Estimated)"
   ]
  },
  {
   "cell_type": "markdown",
   "id": "08ab89ec",
   "metadata": {},
   "source": [
    "### 필요한 컬럼들만 추출 "
   ]
  },
  {
   "cell_type": "code",
   "execution_count": 9,
   "id": "fa32777c",
   "metadata": {
    "scrolled": false
   },
   "outputs": [
    {
     "data": {
      "text/html": [
       "<div>\n",
       "<style scoped>\n",
       "    .dataframe tbody tr th:only-of-type {\n",
       "        vertical-align: middle;\n",
       "    }\n",
       "\n",
       "    .dataframe tbody tr th {\n",
       "        vertical-align: top;\n",
       "    }\n",
       "\n",
       "    .dataframe thead th {\n",
       "        text-align: right;\n",
       "    }\n",
       "</style>\n",
       "<table border=\"1\" class=\"dataframe\">\n",
       "  <thead>\n",
       "    <tr style=\"text-align: right;\">\n",
       "      <th></th>\n",
       "      <th>order_id</th>\n",
       "      <th>customer_id</th>\n",
       "      <th>order_status</th>\n",
       "      <th>order_purchase_timestamp</th>\n",
       "      <th>order_approved_at</th>\n",
       "      <th>order_delivered_carrier_date</th>\n",
       "      <th>order_delivered_customer_date</th>\n",
       "      <th>order_estimated_delivery_date</th>\n",
       "    </tr>\n",
       "  </thead>\n",
       "  <tbody>\n",
       "    <tr>\n",
       "      <th>82021</th>\n",
       "      <td>e14f6f76cb42187a0831a2baf117f608</td>\n",
       "      <td>4b69f3639cc30d3f7def640b4a4ad87a</td>\n",
       "      <td>delivered</td>\n",
       "      <td>2018-08-07 15:23:50</td>\n",
       "      <td>2018-08-07 15:35:21</td>\n",
       "      <td>2018-08-09 11:52:00</td>\n",
       "      <td>2018-08-15 17:41:58</td>\n",
       "      <td>2018-08-30 00:00:00</td>\n",
       "    </tr>\n",
       "    <tr>\n",
       "      <th>42055</th>\n",
       "      <td>0eb0fc0795a4151d4ab39640998b0af4</td>\n",
       "      <td>e085f7dd45cff397f388c800b5f5c7a2</td>\n",
       "      <td>delivered</td>\n",
       "      <td>2018-01-06 16:48:29</td>\n",
       "      <td>2018-01-06 16:56:25</td>\n",
       "      <td>2018-01-10 18:29:00</td>\n",
       "      <td>2018-01-30 22:16:08</td>\n",
       "      <td>2018-02-16 00:00:00</td>\n",
       "    </tr>\n",
       "    <tr>\n",
       "      <th>24520</th>\n",
       "      <td>a72a85d8ae2274e218fcea46f815cfa7</td>\n",
       "      <td>151b2c4a56aab1fa8f3c822cc000b287</td>\n",
       "      <td>delivered</td>\n",
       "      <td>2018-07-05 10:50:33</td>\n",
       "      <td>2018-07-05 16:14:01</td>\n",
       "      <td>2018-07-06 10:57:00</td>\n",
       "      <td>2018-07-10 15:48:25</td>\n",
       "      <td>2018-07-20 00:00:00</td>\n",
       "    </tr>\n",
       "    <tr>\n",
       "      <th>90224</th>\n",
       "      <td>04ebaf1d65a804a49b4b1011467aaf47</td>\n",
       "      <td>0a71f8c6192e87a6cd6615bb9313d888</td>\n",
       "      <td>delivered</td>\n",
       "      <td>2017-11-24 09:37:11</td>\n",
       "      <td>2017-11-24 10:59:04</td>\n",
       "      <td>2017-11-29 21:32:24</td>\n",
       "      <td>2017-12-07 17:31:59</td>\n",
       "      <td>2017-12-14 00:00:00</td>\n",
       "    </tr>\n",
       "    <tr>\n",
       "      <th>86168</th>\n",
       "      <td>ee1d764213dcddf5a39ca6107a6a0ca8</td>\n",
       "      <td>1a89679a296852822ca3573d8ea0d041</td>\n",
       "      <td>delivered</td>\n",
       "      <td>2018-05-04 19:55:46</td>\n",
       "      <td>2018-05-05 19:50:51</td>\n",
       "      <td>2018-05-07 14:11:00</td>\n",
       "      <td>2018-05-18 21:12:10</td>\n",
       "      <td>2018-05-24 00:00:00</td>\n",
       "    </tr>\n",
       "  </tbody>\n",
       "</table>\n",
       "</div>"
      ],
      "text/plain": [
       "                               order_id                       customer_id  \\\n",
       "82021  e14f6f76cb42187a0831a2baf117f608  4b69f3639cc30d3f7def640b4a4ad87a   \n",
       "42055  0eb0fc0795a4151d4ab39640998b0af4  e085f7dd45cff397f388c800b5f5c7a2   \n",
       "24520  a72a85d8ae2274e218fcea46f815cfa7  151b2c4a56aab1fa8f3c822cc000b287   \n",
       "90224  04ebaf1d65a804a49b4b1011467aaf47  0a71f8c6192e87a6cd6615bb9313d888   \n",
       "86168  ee1d764213dcddf5a39ca6107a6a0ca8  1a89679a296852822ca3573d8ea0d041   \n",
       "\n",
       "      order_status order_purchase_timestamp    order_approved_at  \\\n",
       "82021    delivered      2018-08-07 15:23:50  2018-08-07 15:35:21   \n",
       "42055    delivered      2018-01-06 16:48:29  2018-01-06 16:56:25   \n",
       "24520    delivered      2018-07-05 10:50:33  2018-07-05 16:14:01   \n",
       "90224    delivered      2017-11-24 09:37:11  2017-11-24 10:59:04   \n",
       "86168    delivered      2018-05-04 19:55:46  2018-05-05 19:50:51   \n",
       "\n",
       "      order_delivered_carrier_date order_delivered_customer_date  \\\n",
       "82021          2018-08-09 11:52:00           2018-08-15 17:41:58   \n",
       "42055          2018-01-10 18:29:00           2018-01-30 22:16:08   \n",
       "24520          2018-07-06 10:57:00           2018-07-10 15:48:25   \n",
       "90224          2017-11-29 21:32:24           2017-12-07 17:31:59   \n",
       "86168          2018-05-07 14:11:00           2018-05-18 21:12:10   \n",
       "\n",
       "      order_estimated_delivery_date  \n",
       "82021           2018-08-30 00:00:00  \n",
       "42055           2018-02-16 00:00:00  \n",
       "24520           2018-07-20 00:00:00  \n",
       "90224           2017-12-14 00:00:00  \n",
       "86168           2018-05-24 00:00:00  "
      ]
     },
     "execution_count": 9,
     "metadata": {},
     "output_type": "execute_result"
    }
   ],
   "source": [
    "order.sample(5)"
   ]
  },
  {
   "cell_type": "code",
   "execution_count": 10,
   "id": "6a00204d",
   "metadata": {},
   "outputs": [],
   "source": [
    "# 가져올 컬럼 - 구매일자, 배송시작일자, 배송완료일자, 예상배송일자\n",
    "# 컬럼명 변경해서 새로운 데이터 프레임에 담자 "
   ]
  },
  {
   "cell_type": "code",
   "execution_count": 11,
   "id": "6a3f8f11",
   "metadata": {
    "scrolled": true
   },
   "outputs": [
    {
     "data": {
      "text/html": [
       "<div>\n",
       "<style scoped>\n",
       "    .dataframe tbody tr th:only-of-type {\n",
       "        vertical-align: middle;\n",
       "    }\n",
       "\n",
       "    .dataframe tbody tr th {\n",
       "        vertical-align: top;\n",
       "    }\n",
       "\n",
       "    .dataframe thead th {\n",
       "        text-align: right;\n",
       "    }\n",
       "</style>\n",
       "<table border=\"1\" class=\"dataframe\">\n",
       "  <thead>\n",
       "    <tr style=\"text-align: right;\">\n",
       "      <th></th>\n",
       "      <th>order_purchase_timestamp</th>\n",
       "      <th>order_delivered_carrier_date</th>\n",
       "      <th>order_delivered_customer_date</th>\n",
       "      <th>order_estimated_delivery_date</th>\n",
       "    </tr>\n",
       "  </thead>\n",
       "  <tbody>\n",
       "    <tr>\n",
       "      <th>81001</th>\n",
       "      <td>2017-07-09 12:25:07</td>\n",
       "      <td>2017-07-11 19:33:56</td>\n",
       "      <td>2017-07-21 01:29:36</td>\n",
       "      <td>2017-08-03 00:00:00</td>\n",
       "    </tr>\n",
       "  </tbody>\n",
       "</table>\n",
       "</div>"
      ],
      "text/plain": [
       "      order_purchase_timestamp order_delivered_carrier_date  \\\n",
       "81001      2017-07-09 12:25:07          2017-07-11 19:33:56   \n",
       "\n",
       "      order_delivered_customer_date order_estimated_delivery_date  \n",
       "81001           2017-07-21 01:29:36           2017-08-03 00:00:00  "
      ]
     },
     "execution_count": 11,
     "metadata": {},
     "output_type": "execute_result"
    }
   ],
   "source": [
    "# 해당컬럼들을 data라는 변수에 담을거임 \n",
    "date = order[['order_purchase_timestamp', 'order_delivered_carrier_date','order_delivered_customer_date', 'order_estimated_delivery_date']]\n",
    "date.sample()"
   ]
  },
  {
   "cell_type": "code",
   "execution_count": 12,
   "id": "f7e14951",
   "metadata": {
    "scrolled": false
   },
   "outputs": [
    {
     "data": {
      "text/html": [
       "<div>\n",
       "<style scoped>\n",
       "    .dataframe tbody tr th:only-of-type {\n",
       "        vertical-align: middle;\n",
       "    }\n",
       "\n",
       "    .dataframe tbody tr th {\n",
       "        vertical-align: top;\n",
       "    }\n",
       "\n",
       "    .dataframe thead th {\n",
       "        text-align: right;\n",
       "    }\n",
       "</style>\n",
       "<table border=\"1\" class=\"dataframe\">\n",
       "  <thead>\n",
       "    <tr style=\"text-align: right;\">\n",
       "      <th></th>\n",
       "      <th>주문일자</th>\n",
       "      <th>배송시작일자</th>\n",
       "      <th>배송완료일자</th>\n",
       "      <th>예상배송일자</th>\n",
       "    </tr>\n",
       "  </thead>\n",
       "  <tbody>\n",
       "    <tr>\n",
       "      <th>0</th>\n",
       "      <td>2017-10-02 10:56:33</td>\n",
       "      <td>2017-10-04 19:55:00</td>\n",
       "      <td>2017-10-10 21:25:13</td>\n",
       "      <td>2017-10-18 00:00:00</td>\n",
       "    </tr>\n",
       "    <tr>\n",
       "      <th>1</th>\n",
       "      <td>2018-07-24 20:41:37</td>\n",
       "      <td>2018-07-26 14:31:00</td>\n",
       "      <td>2018-08-07 15:27:45</td>\n",
       "      <td>2018-08-13 00:00:00</td>\n",
       "    </tr>\n",
       "    <tr>\n",
       "      <th>2</th>\n",
       "      <td>2018-08-08 08:38:49</td>\n",
       "      <td>2018-08-08 13:50:00</td>\n",
       "      <td>2018-08-17 18:06:29</td>\n",
       "      <td>2018-09-04 00:00:00</td>\n",
       "    </tr>\n",
       "    <tr>\n",
       "      <th>3</th>\n",
       "      <td>2017-11-18 19:28:06</td>\n",
       "      <td>2017-11-22 13:39:59</td>\n",
       "      <td>2017-12-02 00:28:42</td>\n",
       "      <td>2017-12-15 00:00:00</td>\n",
       "    </tr>\n",
       "    <tr>\n",
       "      <th>4</th>\n",
       "      <td>2018-02-13 21:18:39</td>\n",
       "      <td>2018-02-14 19:46:34</td>\n",
       "      <td>2018-02-16 18:17:02</td>\n",
       "      <td>2018-02-26 00:00:00</td>\n",
       "    </tr>\n",
       "    <tr>\n",
       "      <th>...</th>\n",
       "      <td>...</td>\n",
       "      <td>...</td>\n",
       "      <td>...</td>\n",
       "      <td>...</td>\n",
       "    </tr>\n",
       "    <tr>\n",
       "      <th>99436</th>\n",
       "      <td>2017-03-09 09:54:05</td>\n",
       "      <td>2017-03-10 11:18:03</td>\n",
       "      <td>2017-03-17 15:08:01</td>\n",
       "      <td>2017-03-28 00:00:00</td>\n",
       "    </tr>\n",
       "    <tr>\n",
       "      <th>99437</th>\n",
       "      <td>2018-02-06 12:58:58</td>\n",
       "      <td>2018-02-07 23:22:42</td>\n",
       "      <td>2018-02-28 17:37:56</td>\n",
       "      <td>2018-03-02 00:00:00</td>\n",
       "    </tr>\n",
       "    <tr>\n",
       "      <th>99438</th>\n",
       "      <td>2017-08-27 14:46:43</td>\n",
       "      <td>2017-08-28 20:52:26</td>\n",
       "      <td>2017-09-21 11:24:17</td>\n",
       "      <td>2017-09-27 00:00:00</td>\n",
       "    </tr>\n",
       "    <tr>\n",
       "      <th>99439</th>\n",
       "      <td>2018-01-08 21:28:27</td>\n",
       "      <td>2018-01-12 15:35:03</td>\n",
       "      <td>2018-01-25 23:32:54</td>\n",
       "      <td>2018-02-15 00:00:00</td>\n",
       "    </tr>\n",
       "    <tr>\n",
       "      <th>99440</th>\n",
       "      <td>2018-03-08 20:57:30</td>\n",
       "      <td>2018-03-09 22:11:59</td>\n",
       "      <td>2018-03-16 13:08:30</td>\n",
       "      <td>2018-04-03 00:00:00</td>\n",
       "    </tr>\n",
       "  </tbody>\n",
       "</table>\n",
       "<p>99441 rows × 4 columns</p>\n",
       "</div>"
      ],
      "text/plain": [
       "                      주문일자               배송시작일자               배송완료일자  \\\n",
       "0      2017-10-02 10:56:33  2017-10-04 19:55:00  2017-10-10 21:25:13   \n",
       "1      2018-07-24 20:41:37  2018-07-26 14:31:00  2018-08-07 15:27:45   \n",
       "2      2018-08-08 08:38:49  2018-08-08 13:50:00  2018-08-17 18:06:29   \n",
       "3      2017-11-18 19:28:06  2017-11-22 13:39:59  2017-12-02 00:28:42   \n",
       "4      2018-02-13 21:18:39  2018-02-14 19:46:34  2018-02-16 18:17:02   \n",
       "...                    ...                  ...                  ...   \n",
       "99436  2017-03-09 09:54:05  2017-03-10 11:18:03  2017-03-17 15:08:01   \n",
       "99437  2018-02-06 12:58:58  2018-02-07 23:22:42  2018-02-28 17:37:56   \n",
       "99438  2017-08-27 14:46:43  2017-08-28 20:52:26  2017-09-21 11:24:17   \n",
       "99439  2018-01-08 21:28:27  2018-01-12 15:35:03  2018-01-25 23:32:54   \n",
       "99440  2018-03-08 20:57:30  2018-03-09 22:11:59  2018-03-16 13:08:30   \n",
       "\n",
       "                    예상배송일자  \n",
       "0      2017-10-18 00:00:00  \n",
       "1      2018-08-13 00:00:00  \n",
       "2      2018-09-04 00:00:00  \n",
       "3      2017-12-15 00:00:00  \n",
       "4      2018-02-26 00:00:00  \n",
       "...                    ...  \n",
       "99436  2017-03-28 00:00:00  \n",
       "99437  2018-03-02 00:00:00  \n",
       "99438  2017-09-27 00:00:00  \n",
       "99439  2018-02-15 00:00:00  \n",
       "99440  2018-04-03 00:00:00  \n",
       "\n",
       "[99441 rows x 4 columns]"
      ]
     },
     "execution_count": 12,
     "metadata": {},
     "output_type": "execute_result"
    }
   ],
   "source": [
    "# 컬럼명 변경해주기 \n",
    "date.rename(columns = {'order_purchase_timestamp':'주문일자',\n",
    "                       'order_delivered_carrier_date' : '배송시작일자',\n",
    "                      'order_delivered_customer_date' : '배송완료일자', \n",
    "                      'order_estimated_delivery_date': '예상배송일자'}, inplace= True)\n",
    "date"
   ]
  },
  {
   "cell_type": "code",
   "execution_count": 13,
   "id": "ea1b9fb5",
   "metadata": {},
   "outputs": [],
   "source": [
    "# 컬럼들 문자열 슬라이싱으로 년-월-일 만 남기기 \n",
    "date['주문일자'] = date['주문일자'].astype(str).str[:10]\n",
    "date['배송시작일자'] = date['배송시작일자'].astype(str).str[:10]\n",
    "date['배송완료일자'] = date['배송완료일자'].astype(str).str[:10]\n",
    "date['예상배송일자'] = date['예상배송일자'].astype(str).str[:10]"
   ]
  },
  {
   "cell_type": "code",
   "execution_count": 14,
   "id": "64543617",
   "metadata": {},
   "outputs": [
    {
     "name": "stdout",
     "output_type": "stream",
     "text": [
      "<class 'pandas.core.frame.DataFrame'>\n",
      "RangeIndex: 99441 entries, 0 to 99440\n",
      "Data columns (total 4 columns):\n",
      " #   Column  Non-Null Count  Dtype \n",
      "---  ------  --------------  ----- \n",
      " 0   주문일자    99441 non-null  object\n",
      " 1   배송시작일자  99441 non-null  object\n",
      " 2   배송완료일자  99441 non-null  object\n",
      " 3   예상배송일자  99441 non-null  object\n",
      "dtypes: object(4)\n",
      "memory usage: 3.0+ MB\n"
     ]
    }
   ],
   "source": [
    "date.info()"
   ]
  },
  {
   "cell_type": "code",
   "execution_count": 15,
   "id": "0ed0bd6b",
   "metadata": {
    "scrolled": true
   },
   "outputs": [
    {
     "name": "stdout",
     "output_type": "stream",
     "text": [
      "<class 'pandas.core.frame.DataFrame'>\n",
      "RangeIndex: 99441 entries, 0 to 99440\n",
      "Data columns (total 4 columns):\n",
      " #   Column  Non-Null Count  Dtype         \n",
      "---  ------  --------------  -----         \n",
      " 0   주문일자    99441 non-null  datetime64[ns]\n",
      " 1   배송시작일자  97658 non-null  datetime64[ns]\n",
      " 2   배송완료일자  96476 non-null  datetime64[ns]\n",
      " 3   예상배송일자  99441 non-null  datetime64[ns]\n",
      "dtypes: datetime64[ns](4)\n",
      "memory usage: 3.0 MB\n"
     ]
    }
   ],
   "source": [
    "# str로 변경된 데이터 타입 다시 datetime으로 바꿔주기 그래야 날짜 연산이 됨 \n",
    "date['주문일자'] = pd.to_datetime(date['주문일자'])\n",
    "date['배송시작일자'] = pd.to_datetime(date['배송시작일자'])\n",
    "date['배송완료일자'] = pd.to_datetime(date['배송완료일자'])\n",
    "date['예상배송일자'] = pd.to_datetime(date['예상배송일자'])\n",
    "date.info()"
   ]
  },
  {
   "cell_type": "code",
   "execution_count": 16,
   "id": "c410cf33",
   "metadata": {
    "scrolled": false
   },
   "outputs": [
    {
     "data": {
      "text/html": [
       "<div>\n",
       "<style scoped>\n",
       "    .dataframe tbody tr th:only-of-type {\n",
       "        vertical-align: middle;\n",
       "    }\n",
       "\n",
       "    .dataframe tbody tr th {\n",
       "        vertical-align: top;\n",
       "    }\n",
       "\n",
       "    .dataframe thead th {\n",
       "        text-align: right;\n",
       "    }\n",
       "</style>\n",
       "<table border=\"1\" class=\"dataframe\">\n",
       "  <thead>\n",
       "    <tr style=\"text-align: right;\">\n",
       "      <th></th>\n",
       "      <th>주문일자</th>\n",
       "      <th>배송시작일자</th>\n",
       "      <th>배송완료일자</th>\n",
       "      <th>예상배송일자</th>\n",
       "      <th>배송기간</th>\n",
       "    </tr>\n",
       "  </thead>\n",
       "  <tbody>\n",
       "    <tr>\n",
       "      <th>0</th>\n",
       "      <td>2017-10-02</td>\n",
       "      <td>2017-10-04</td>\n",
       "      <td>2017-10-10</td>\n",
       "      <td>2017-10-18</td>\n",
       "      <td>8 days</td>\n",
       "    </tr>\n",
       "    <tr>\n",
       "      <th>1</th>\n",
       "      <td>2018-07-24</td>\n",
       "      <td>2018-07-26</td>\n",
       "      <td>2018-08-07</td>\n",
       "      <td>2018-08-13</td>\n",
       "      <td>14 days</td>\n",
       "    </tr>\n",
       "    <tr>\n",
       "      <th>2</th>\n",
       "      <td>2018-08-08</td>\n",
       "      <td>2018-08-08</td>\n",
       "      <td>2018-08-17</td>\n",
       "      <td>2018-09-04</td>\n",
       "      <td>9 days</td>\n",
       "    </tr>\n",
       "    <tr>\n",
       "      <th>3</th>\n",
       "      <td>2017-11-18</td>\n",
       "      <td>2017-11-22</td>\n",
       "      <td>2017-12-02</td>\n",
       "      <td>2017-12-15</td>\n",
       "      <td>14 days</td>\n",
       "    </tr>\n",
       "    <tr>\n",
       "      <th>4</th>\n",
       "      <td>2018-02-13</td>\n",
       "      <td>2018-02-14</td>\n",
       "      <td>2018-02-16</td>\n",
       "      <td>2018-02-26</td>\n",
       "      <td>3 days</td>\n",
       "    </tr>\n",
       "    <tr>\n",
       "      <th>...</th>\n",
       "      <td>...</td>\n",
       "      <td>...</td>\n",
       "      <td>...</td>\n",
       "      <td>...</td>\n",
       "      <td>...</td>\n",
       "    </tr>\n",
       "    <tr>\n",
       "      <th>99436</th>\n",
       "      <td>2017-03-09</td>\n",
       "      <td>2017-03-10</td>\n",
       "      <td>2017-03-17</td>\n",
       "      <td>2017-03-28</td>\n",
       "      <td>8 days</td>\n",
       "    </tr>\n",
       "    <tr>\n",
       "      <th>99437</th>\n",
       "      <td>2018-02-06</td>\n",
       "      <td>2018-02-07</td>\n",
       "      <td>2018-02-28</td>\n",
       "      <td>2018-03-02</td>\n",
       "      <td>22 days</td>\n",
       "    </tr>\n",
       "    <tr>\n",
       "      <th>99438</th>\n",
       "      <td>2017-08-27</td>\n",
       "      <td>2017-08-28</td>\n",
       "      <td>2017-09-21</td>\n",
       "      <td>2017-09-27</td>\n",
       "      <td>25 days</td>\n",
       "    </tr>\n",
       "    <tr>\n",
       "      <th>99439</th>\n",
       "      <td>2018-01-08</td>\n",
       "      <td>2018-01-12</td>\n",
       "      <td>2018-01-25</td>\n",
       "      <td>2018-02-15</td>\n",
       "      <td>17 days</td>\n",
       "    </tr>\n",
       "    <tr>\n",
       "      <th>99440</th>\n",
       "      <td>2018-03-08</td>\n",
       "      <td>2018-03-09</td>\n",
       "      <td>2018-03-16</td>\n",
       "      <td>2018-04-03</td>\n",
       "      <td>8 days</td>\n",
       "    </tr>\n",
       "  </tbody>\n",
       "</table>\n",
       "<p>99441 rows × 5 columns</p>\n",
       "</div>"
      ],
      "text/plain": [
       "            주문일자     배송시작일자     배송완료일자     예상배송일자    배송기간\n",
       "0     2017-10-02 2017-10-04 2017-10-10 2017-10-18  8 days\n",
       "1     2018-07-24 2018-07-26 2018-08-07 2018-08-13 14 days\n",
       "2     2018-08-08 2018-08-08 2018-08-17 2018-09-04  9 days\n",
       "3     2017-11-18 2017-11-22 2017-12-02 2017-12-15 14 days\n",
       "4     2018-02-13 2018-02-14 2018-02-16 2018-02-26  3 days\n",
       "...          ...        ...        ...        ...     ...\n",
       "99436 2017-03-09 2017-03-10 2017-03-17 2017-03-28  8 days\n",
       "99437 2018-02-06 2018-02-07 2018-02-28 2018-03-02 22 days\n",
       "99438 2017-08-27 2017-08-28 2017-09-21 2017-09-27 25 days\n",
       "99439 2018-01-08 2018-01-12 2018-01-25 2018-02-15 17 days\n",
       "99440 2018-03-08 2018-03-09 2018-03-16 2018-04-03  8 days\n",
       "\n",
       "[99441 rows x 5 columns]"
      ]
     },
     "execution_count": 16,
     "metadata": {},
     "output_type": "execute_result"
    }
   ],
   "source": [
    "# 배송에 걸린 기간\n",
    "date['배송기간'] = date['배송완료일자'] - date['주문일자']\n",
    "date"
   ]
  },
  {
   "cell_type": "code",
   "execution_count": 17,
   "id": "7e385223",
   "metadata": {
    "scrolled": true
   },
   "outputs": [
    {
     "data": {
      "text/html": [
       "<div>\n",
       "<style scoped>\n",
       "    .dataframe tbody tr th:only-of-type {\n",
       "        vertical-align: middle;\n",
       "    }\n",
       "\n",
       "    .dataframe tbody tr th {\n",
       "        vertical-align: top;\n",
       "    }\n",
       "\n",
       "    .dataframe thead th {\n",
       "        text-align: right;\n",
       "    }\n",
       "</style>\n",
       "<table border=\"1\" class=\"dataframe\">\n",
       "  <thead>\n",
       "    <tr style=\"text-align: right;\">\n",
       "      <th></th>\n",
       "      <th>주문일자</th>\n",
       "      <th>배송시작일자</th>\n",
       "      <th>배송완료일자</th>\n",
       "      <th>예상배송일자</th>\n",
       "      <th>배송기간</th>\n",
       "      <th>배송기간_숫자만</th>\n",
       "    </tr>\n",
       "  </thead>\n",
       "  <tbody>\n",
       "    <tr>\n",
       "      <th>0</th>\n",
       "      <td>2017-10-02</td>\n",
       "      <td>2017-10-04</td>\n",
       "      <td>2017-10-10</td>\n",
       "      <td>2017-10-18</td>\n",
       "      <td>8 days</td>\n",
       "      <td>8.0</td>\n",
       "    </tr>\n",
       "    <tr>\n",
       "      <th>1</th>\n",
       "      <td>2018-07-24</td>\n",
       "      <td>2018-07-26</td>\n",
       "      <td>2018-08-07</td>\n",
       "      <td>2018-08-13</td>\n",
       "      <td>14 days</td>\n",
       "      <td>14.0</td>\n",
       "    </tr>\n",
       "    <tr>\n",
       "      <th>2</th>\n",
       "      <td>2018-08-08</td>\n",
       "      <td>2018-08-08</td>\n",
       "      <td>2018-08-17</td>\n",
       "      <td>2018-09-04</td>\n",
       "      <td>9 days</td>\n",
       "      <td>9.0</td>\n",
       "    </tr>\n",
       "    <tr>\n",
       "      <th>3</th>\n",
       "      <td>2017-11-18</td>\n",
       "      <td>2017-11-22</td>\n",
       "      <td>2017-12-02</td>\n",
       "      <td>2017-12-15</td>\n",
       "      <td>14 days</td>\n",
       "      <td>14.0</td>\n",
       "    </tr>\n",
       "    <tr>\n",
       "      <th>4</th>\n",
       "      <td>2018-02-13</td>\n",
       "      <td>2018-02-14</td>\n",
       "      <td>2018-02-16</td>\n",
       "      <td>2018-02-26</td>\n",
       "      <td>3 days</td>\n",
       "      <td>3.0</td>\n",
       "    </tr>\n",
       "    <tr>\n",
       "      <th>...</th>\n",
       "      <td>...</td>\n",
       "      <td>...</td>\n",
       "      <td>...</td>\n",
       "      <td>...</td>\n",
       "      <td>...</td>\n",
       "      <td>...</td>\n",
       "    </tr>\n",
       "    <tr>\n",
       "      <th>99436</th>\n",
       "      <td>2017-03-09</td>\n",
       "      <td>2017-03-10</td>\n",
       "      <td>2017-03-17</td>\n",
       "      <td>2017-03-28</td>\n",
       "      <td>8 days</td>\n",
       "      <td>8.0</td>\n",
       "    </tr>\n",
       "    <tr>\n",
       "      <th>99437</th>\n",
       "      <td>2018-02-06</td>\n",
       "      <td>2018-02-07</td>\n",
       "      <td>2018-02-28</td>\n",
       "      <td>2018-03-02</td>\n",
       "      <td>22 days</td>\n",
       "      <td>22.0</td>\n",
       "    </tr>\n",
       "    <tr>\n",
       "      <th>99438</th>\n",
       "      <td>2017-08-27</td>\n",
       "      <td>2017-08-28</td>\n",
       "      <td>2017-09-21</td>\n",
       "      <td>2017-09-27</td>\n",
       "      <td>25 days</td>\n",
       "      <td>25.0</td>\n",
       "    </tr>\n",
       "    <tr>\n",
       "      <th>99439</th>\n",
       "      <td>2018-01-08</td>\n",
       "      <td>2018-01-12</td>\n",
       "      <td>2018-01-25</td>\n",
       "      <td>2018-02-15</td>\n",
       "      <td>17 days</td>\n",
       "      <td>17.0</td>\n",
       "    </tr>\n",
       "    <tr>\n",
       "      <th>99440</th>\n",
       "      <td>2018-03-08</td>\n",
       "      <td>2018-03-09</td>\n",
       "      <td>2018-03-16</td>\n",
       "      <td>2018-04-03</td>\n",
       "      <td>8 days</td>\n",
       "      <td>8.0</td>\n",
       "    </tr>\n",
       "  </tbody>\n",
       "</table>\n",
       "<p>99441 rows × 6 columns</p>\n",
       "</div>"
      ],
      "text/plain": [
       "            주문일자     배송시작일자     배송완료일자     예상배송일자    배송기간  배송기간_숫자만\n",
       "0     2017-10-02 2017-10-04 2017-10-10 2017-10-18  8 days       8.0\n",
       "1     2018-07-24 2018-07-26 2018-08-07 2018-08-13 14 days      14.0\n",
       "2     2018-08-08 2018-08-08 2018-08-17 2018-09-04  9 days       9.0\n",
       "3     2017-11-18 2017-11-22 2017-12-02 2017-12-15 14 days      14.0\n",
       "4     2018-02-13 2018-02-14 2018-02-16 2018-02-26  3 days       3.0\n",
       "...          ...        ...        ...        ...     ...       ...\n",
       "99436 2017-03-09 2017-03-10 2017-03-17 2017-03-28  8 days       8.0\n",
       "99437 2018-02-06 2018-02-07 2018-02-28 2018-03-02 22 days      22.0\n",
       "99438 2017-08-27 2017-08-28 2017-09-21 2017-09-27 25 days      25.0\n",
       "99439 2018-01-08 2018-01-12 2018-01-25 2018-02-15 17 days      17.0\n",
       "99440 2018-03-08 2018-03-09 2018-03-16 2018-04-03  8 days       8.0\n",
       "\n",
       "[99441 rows x 6 columns]"
      ]
     },
     "execution_count": 17,
     "metadata": {},
     "output_type": "execute_result"
    }
   ],
   "source": [
    "# 시각화를 위해 datetime 형태인 배송기간을 float 형태로 변환해 배송기간1로 지정 \n",
    "date['배송기간_숫자만'] = date['배송기간'].dt.days\n",
    "date"
   ]
  },
  {
   "cell_type": "markdown",
   "id": "bafa3dce",
   "metadata": {},
   "source": [
    "# #분석 2. 구매에서 배송까지 평균 얼마나 걸리는지? "
   ]
  },
  {
   "cell_type": "code",
   "execution_count": 18,
   "id": "64a72738",
   "metadata": {
    "scrolled": true
   },
   "outputs": [
    {
     "data": {
      "text/plain": [
       "배송기간_숫자만\n",
       "0.0         1\n",
       "1.0       629\n",
       "2.0      2874\n",
       "3.0      3448\n",
       "4.0      4497\n",
       "         ... \n",
       "194.0       1\n",
       "195.0       2\n",
       "196.0       1\n",
       "208.0       1\n",
       "210.0       1\n",
       "Name: 배송기간, Length: 144, dtype: int64"
      ]
     },
     "execution_count": 18,
     "metadata": {},
     "output_type": "execute_result"
    }
   ],
   "source": [
    "# 주문일로부터 배송기간 별(그룹바이...) 빈도수 \n",
    "date.groupby(by = '배송기간_숫자만')['배송기간'].count()"
   ]
  },
  {
   "cell_type": "code",
   "execution_count": 19,
   "id": "5d197301",
   "metadata": {
    "scrolled": true
   },
   "outputs": [
    {
     "data": {
      "text/plain": [
       "<AxesSubplot:xlabel='배송기간_숫자만'>"
      ]
     },
     "execution_count": 19,
     "metadata": {},
     "output_type": "execute_result"
    },
    {
     "data": {
      "image/png": "[encoded data removed]",
      "text/plain": [
       "<Figure size 432x288 with 1 Axes>"
      ]
     },
     "metadata": {
      "needs_background": "light"
     },
     "output_type": "display_data"
    }
   ],
   "source": [
    "# 배송기간 별 빈도수 시각화 \n",
    "plt.xlim(0,30)\n",
    "date.groupby(by = '배송기간_숫자만').count()['배송기간'].plot()"
   ]
  },
  {
   "cell_type": "code",
   "execution_count": 20,
   "id": "9af07ed3",
   "metadata": {
    "scrolled": false
   },
   "outputs": [
    {
     "data": {
      "text/plain": [
       "count    96476.000000\n",
       "mean        12.497336\n",
       "std          9.555460\n",
       "min          0.000000\n",
       "25%          7.000000\n",
       "50%         10.000000\n",
       "75%         16.000000\n",
       "max        210.000000\n",
       "Name: 배송기간_숫자만, dtype: float64"
      ]
     },
     "execution_count": 20,
     "metadata": {},
     "output_type": "execute_result"
    }
   ],
   "source": [
    "date['배송기간_숫자만'].describe()"
   ]
  },
  {
   "cell_type": "code",
   "execution_count": 21,
   "id": "9def49ce",
   "metadata": {},
   "outputs": [],
   "source": [
    "# 구매후 배송완료까지 평균 12일 정도. 중간값 10일 정말 빠르면 7일 ... "
   ]
  },
  {
   "cell_type": "markdown",
   "id": "112e416f",
   "metadata": {},
   "source": [
    "# #분석 2. 배송예정일  / 배송완료일 사이의 GAP "
   ]
  },
  {
   "cell_type": "code",
   "execution_count": 23,
   "id": "bf299b51",
   "metadata": {
    "scrolled": true
   },
   "outputs": [
    {
     "data": {
      "text/html": [
       "<div>\n",
       "<style scoped>\n",
       "    .dataframe tbody tr th:only-of-type {\n",
       "        vertical-align: middle;\n",
       "    }\n",
       "\n",
       "    .dataframe tbody tr th {\n",
       "        vertical-align: top;\n",
       "    }\n",
       "\n",
       "    .dataframe thead th {\n",
       "        text-align: right;\n",
       "    }\n",
       "</style>\n",
       "<table border=\"1\" class=\"dataframe\">\n",
       "  <thead>\n",
       "    <tr style=\"text-align: right;\">\n",
       "      <th></th>\n",
       "      <th>주문일자</th>\n",
       "      <th>배송시작일자</th>\n",
       "      <th>배송완료일자</th>\n",
       "      <th>예상배송일자</th>\n",
       "      <th>배송기간</th>\n",
       "      <th>배송기간_숫자만</th>\n",
       "      <th>기간차</th>\n",
       "    </tr>\n",
       "  </thead>\n",
       "  <tbody>\n",
       "    <tr>\n",
       "      <th>0</th>\n",
       "      <td>2017-10-02</td>\n",
       "      <td>2017-10-04</td>\n",
       "      <td>2017-10-10</td>\n",
       "      <td>2017-10-18</td>\n",
       "      <td>8 days</td>\n",
       "      <td>8.0</td>\n",
       "      <td>8 days</td>\n",
       "    </tr>\n",
       "    <tr>\n",
       "      <th>1</th>\n",
       "      <td>2018-07-24</td>\n",
       "      <td>2018-07-26</td>\n",
       "      <td>2018-08-07</td>\n",
       "      <td>2018-08-13</td>\n",
       "      <td>14 days</td>\n",
       "      <td>14.0</td>\n",
       "      <td>6 days</td>\n",
       "    </tr>\n",
       "    <tr>\n",
       "      <th>2</th>\n",
       "      <td>2018-08-08</td>\n",
       "      <td>2018-08-08</td>\n",
       "      <td>2018-08-17</td>\n",
       "      <td>2018-09-04</td>\n",
       "      <td>9 days</td>\n",
       "      <td>9.0</td>\n",
       "      <td>18 days</td>\n",
       "    </tr>\n",
       "    <tr>\n",
       "      <th>3</th>\n",
       "      <td>2017-11-18</td>\n",
       "      <td>2017-11-22</td>\n",
       "      <td>2017-12-02</td>\n",
       "      <td>2017-12-15</td>\n",
       "      <td>14 days</td>\n",
       "      <td>14.0</td>\n",
       "      <td>13 days</td>\n",
       "    </tr>\n",
       "    <tr>\n",
       "      <th>4</th>\n",
       "      <td>2018-02-13</td>\n",
       "      <td>2018-02-14</td>\n",
       "      <td>2018-02-16</td>\n",
       "      <td>2018-02-26</td>\n",
       "      <td>3 days</td>\n",
       "      <td>3.0</td>\n",
       "      <td>10 days</td>\n",
       "    </tr>\n",
       "    <tr>\n",
       "      <th>...</th>\n",
       "      <td>...</td>\n",
       "      <td>...</td>\n",
       "      <td>...</td>\n",
       "      <td>...</td>\n",
       "      <td>...</td>\n",
       "      <td>...</td>\n",
       "      <td>...</td>\n",
       "    </tr>\n",
       "    <tr>\n",
       "      <th>99436</th>\n",
       "      <td>2017-03-09</td>\n",
       "      <td>2017-03-10</td>\n",
       "      <td>2017-03-17</td>\n",
       "      <td>2017-03-28</td>\n",
       "      <td>8 days</td>\n",
       "      <td>8.0</td>\n",
       "      <td>11 days</td>\n",
       "    </tr>\n",
       "    <tr>\n",
       "      <th>99437</th>\n",
       "      <td>2018-02-06</td>\n",
       "      <td>2018-02-07</td>\n",
       "      <td>2018-02-28</td>\n",
       "      <td>2018-03-02</td>\n",
       "      <td>22 days</td>\n",
       "      <td>22.0</td>\n",
       "      <td>2 days</td>\n",
       "    </tr>\n",
       "    <tr>\n",
       "      <th>99438</th>\n",
       "      <td>2017-08-27</td>\n",
       "      <td>2017-08-28</td>\n",
       "      <td>2017-09-21</td>\n",
       "      <td>2017-09-27</td>\n",
       "      <td>25 days</td>\n",
       "      <td>25.0</td>\n",
       "      <td>6 days</td>\n",
       "    </tr>\n",
       "    <tr>\n",
       "      <th>99439</th>\n",
       "      <td>2018-01-08</td>\n",
       "      <td>2018-01-12</td>\n",
       "      <td>2018-01-25</td>\n",
       "      <td>2018-02-15</td>\n",
       "      <td>17 days</td>\n",
       "      <td>17.0</td>\n",
       "      <td>21 days</td>\n",
       "    </tr>\n",
       "    <tr>\n",
       "      <th>99440</th>\n",
       "      <td>2018-03-08</td>\n",
       "      <td>2018-03-09</td>\n",
       "      <td>2018-03-16</td>\n",
       "      <td>2018-04-03</td>\n",
       "      <td>8 days</td>\n",
       "      <td>8.0</td>\n",
       "      <td>18 days</td>\n",
       "    </tr>\n",
       "  </tbody>\n",
       "</table>\n",
       "<p>99441 rows × 7 columns</p>\n",
       "</div>"
      ],
      "text/plain": [
       "            주문일자     배송시작일자     배송완료일자     예상배송일자    배송기간  배송기간_숫자만     기간차\n",
       "0     2017-10-02 2017-10-04 2017-10-10 2017-10-18  8 days       8.0  8 days\n",
       "1     2018-07-24 2018-07-26 2018-08-07 2018-08-13 14 days      14.0  6 days\n",
       "2     2018-08-08 2018-08-08 2018-08-17 2018-09-04  9 days       9.0 18 days\n",
       "3     2017-11-18 2017-11-22 2017-12-02 2017-12-15 14 days      14.0 13 days\n",
       "4     2018-02-13 2018-02-14 2018-02-16 2018-02-26  3 days       3.0 10 days\n",
       "...          ...        ...        ...        ...     ...       ...     ...\n",
       "99436 2017-03-09 2017-03-10 2017-03-17 2017-03-28  8 days       8.0 11 days\n",
       "99437 2018-02-06 2018-02-07 2018-02-28 2018-03-02 22 days      22.0  2 days\n",
       "99438 2017-08-27 2017-08-28 2017-09-21 2017-09-27 25 days      25.0  6 days\n",
       "99439 2018-01-08 2018-01-12 2018-01-25 2018-02-15 17 days      17.0 21 days\n",
       "99440 2018-03-08 2018-03-09 2018-03-16 2018-04-03  8 days       8.0 18 days\n",
       "\n",
       "[99441 rows x 7 columns]"
      ]
     },
     "execution_count": 23,
     "metadata": {},
     "output_type": "execute_result"
    }
   ],
   "source": [
    "# 예상배송일과 실제배송일 INTERVAL 분석\n",
    "date['기간차'] = date['예상배송일자'] - date['배송완료일자']\n",
    "date"
   ]
  },
  {
   "cell_type": "code",
   "execution_count": 24,
   "id": "51443fb7",
   "metadata": {
    "scrolled": true
   },
   "outputs": [
    {
     "data": {
      "text/html": [
       "<div>\n",
       "<style scoped>\n",
       "    .dataframe tbody tr th:only-of-type {\n",
       "        vertical-align: middle;\n",
       "    }\n",
       "\n",
       "    .dataframe tbody tr th {\n",
       "        vertical-align: top;\n",
       "    }\n",
       "\n",
       "    .dataframe thead th {\n",
       "        text-align: right;\n",
       "    }\n",
       "</style>\n",
       "<table border=\"1\" class=\"dataframe\">\n",
       "  <thead>\n",
       "    <tr style=\"text-align: right;\">\n",
       "      <th></th>\n",
       "      <th>주문일자</th>\n",
       "      <th>배송시작일자</th>\n",
       "      <th>배송완료일자</th>\n",
       "      <th>예상배송일자</th>\n",
       "      <th>배송기간</th>\n",
       "      <th>배송기간_숫자만</th>\n",
       "      <th>기간차</th>\n",
       "      <th>기간차_숫자만</th>\n",
       "    </tr>\n",
       "  </thead>\n",
       "  <tbody>\n",
       "    <tr>\n",
       "      <th>0</th>\n",
       "      <td>2017-10-02</td>\n",
       "      <td>2017-10-04</td>\n",
       "      <td>2017-10-10</td>\n",
       "      <td>2017-10-18</td>\n",
       "      <td>8 days</td>\n",
       "      <td>8.0</td>\n",
       "      <td>8 days</td>\n",
       "      <td>8.0</td>\n",
       "    </tr>\n",
       "    <tr>\n",
       "      <th>1</th>\n",
       "      <td>2018-07-24</td>\n",
       "      <td>2018-07-26</td>\n",
       "      <td>2018-08-07</td>\n",
       "      <td>2018-08-13</td>\n",
       "      <td>14 days</td>\n",
       "      <td>14.0</td>\n",
       "      <td>6 days</td>\n",
       "      <td>6.0</td>\n",
       "    </tr>\n",
       "    <tr>\n",
       "      <th>2</th>\n",
       "      <td>2018-08-08</td>\n",
       "      <td>2018-08-08</td>\n",
       "      <td>2018-08-17</td>\n",
       "      <td>2018-09-04</td>\n",
       "      <td>9 days</td>\n",
       "      <td>9.0</td>\n",
       "      <td>18 days</td>\n",
       "      <td>18.0</td>\n",
       "    </tr>\n",
       "    <tr>\n",
       "      <th>3</th>\n",
       "      <td>2017-11-18</td>\n",
       "      <td>2017-11-22</td>\n",
       "      <td>2017-12-02</td>\n",
       "      <td>2017-12-15</td>\n",
       "      <td>14 days</td>\n",
       "      <td>14.0</td>\n",
       "      <td>13 days</td>\n",
       "      <td>13.0</td>\n",
       "    </tr>\n",
       "    <tr>\n",
       "      <th>4</th>\n",
       "      <td>2018-02-13</td>\n",
       "      <td>2018-02-14</td>\n",
       "      <td>2018-02-16</td>\n",
       "      <td>2018-02-26</td>\n",
       "      <td>3 days</td>\n",
       "      <td>3.0</td>\n",
       "      <td>10 days</td>\n",
       "      <td>10.0</td>\n",
       "    </tr>\n",
       "    <tr>\n",
       "      <th>...</th>\n",
       "      <td>...</td>\n",
       "      <td>...</td>\n",
       "      <td>...</td>\n",
       "      <td>...</td>\n",
       "      <td>...</td>\n",
       "      <td>...</td>\n",
       "      <td>...</td>\n",
       "      <td>...</td>\n",
       "    </tr>\n",
       "    <tr>\n",
       "      <th>99436</th>\n",
       "      <td>2017-03-09</td>\n",
       "      <td>2017-03-10</td>\n",
       "      <td>2017-03-17</td>\n",
       "      <td>2017-03-28</td>\n",
       "      <td>8 days</td>\n",
       "      <td>8.0</td>\n",
       "      <td>11 days</td>\n",
       "      <td>11.0</td>\n",
       "    </tr>\n",
       "    <tr>\n",
       "      <th>99437</th>\n",
       "      <td>2018-02-06</td>\n",
       "      <td>2018-02-07</td>\n",
       "      <td>2018-02-28</td>\n",
       "      <td>2018-03-02</td>\n",
       "      <td>22 days</td>\n",
       "      <td>22.0</td>\n",
       "      <td>2 days</td>\n",
       "      <td>2.0</td>\n",
       "    </tr>\n",
       "    <tr>\n",
       "      <th>99438</th>\n",
       "      <td>2017-08-27</td>\n",
       "      <td>2017-08-28</td>\n",
       "      <td>2017-09-21</td>\n",
       "      <td>2017-09-27</td>\n",
       "      <td>25 days</td>\n",
       "      <td>25.0</td>\n",
       "      <td>6 days</td>\n",
       "      <td>6.0</td>\n",
       "    </tr>\n",
       "    <tr>\n",
       "      <th>99439</th>\n",
       "      <td>2018-01-08</td>\n",
       "      <td>2018-01-12</td>\n",
       "      <td>2018-01-25</td>\n",
       "      <td>2018-02-15</td>\n",
       "      <td>17 days</td>\n",
       "      <td>17.0</td>\n",
       "      <td>21 days</td>\n",
       "      <td>21.0</td>\n",
       "    </tr>\n",
       "    <tr>\n",
       "      <th>99440</th>\n",
       "      <td>2018-03-08</td>\n",
       "      <td>2018-03-09</td>\n",
       "      <td>2018-03-16</td>\n",
       "      <td>2018-04-03</td>\n",
       "      <td>8 days</td>\n",
       "      <td>8.0</td>\n",
       "      <td>18 days</td>\n",
       "      <td>18.0</td>\n",
       "    </tr>\n",
       "  </tbody>\n",
       "</table>\n",
       "<p>99441 rows × 8 columns</p>\n",
       "</div>"
      ],
      "text/plain": [
       "            주문일자     배송시작일자     배송완료일자     예상배송일자    배송기간  배송기간_숫자만     기간차  \\\n",
       "0     2017-10-02 2017-10-04 2017-10-10 2017-10-18  8 days       8.0  8 days   \n",
       "1     2018-07-24 2018-07-26 2018-08-07 2018-08-13 14 days      14.0  6 days   \n",
       "2     2018-08-08 2018-08-08 2018-08-17 2018-09-04  9 days       9.0 18 days   \n",
       "3     2017-11-18 2017-11-22 2017-12-02 2017-12-15 14 days      14.0 13 days   \n",
       "4     2018-02-13 2018-02-14 2018-02-16 2018-02-26  3 days       3.0 10 days   \n",
       "...          ...        ...        ...        ...     ...       ...     ...   \n",
       "99436 2017-03-09 2017-03-10 2017-03-17 2017-03-28  8 days       8.0 11 days   \n",
       "99437 2018-02-06 2018-02-07 2018-02-28 2018-03-02 22 days      22.0  2 days   \n",
       "99438 2017-08-27 2017-08-28 2017-09-21 2017-09-27 25 days      25.0  6 days   \n",
       "99439 2018-01-08 2018-01-12 2018-01-25 2018-02-15 17 days      17.0 21 days   \n",
       "99440 2018-03-08 2018-03-09 2018-03-16 2018-04-03  8 days       8.0 18 days   \n",
       "\n",
       "       기간차_숫자만  \n",
       "0          8.0  \n",
       "1          6.0  \n",
       "2         18.0  \n",
       "3         13.0  \n",
       "4         10.0  \n",
       "...        ...  \n",
       "99436     11.0  \n",
       "99437      2.0  \n",
       "99438      6.0  \n",
       "99439     21.0  \n",
       "99440     18.0  \n",
       "\n",
       "[99441 rows x 8 columns]"
      ]
     },
     "execution_count": 24,
     "metadata": {},
     "output_type": "execute_result"
    }
   ],
   "source": [
    "# 시각화를 위해 datetime 형태인 기간차을 float 형태로 변환해 기간차_숫자만으로 지정 \n",
    "date['기간차_숫자만'] = date['기간차'].dt.days\n",
    "date"
   ]
  },
  {
   "cell_type": "code",
   "execution_count": 25,
   "id": "078e162d",
   "metadata": {},
   "outputs": [
    {
     "data": {
      "text/plain": [
       "기간차_숫자만\n",
       "-188.0    1\n",
       "-181.0    1\n",
       "-175.0    1\n",
       "-167.0    1\n",
       "-166.0    1\n",
       "         ..\n",
       " 109.0    1\n",
       " 124.0    1\n",
       " 135.0    1\n",
       " 140.0    1\n",
       " 147.0    1\n",
       "Name: 기간차, Length: 198, dtype: int64"
      ]
     },
     "execution_count": 25,
     "metadata": {},
     "output_type": "execute_result"
    }
   ],
   "source": [
    "# 예측치 갭  별(그룹바이...) 빈도수 \n",
    "date.groupby(by = '기간차_숫자만')['기간차'].count()"
   ]
  },
  {
   "cell_type": "code",
   "execution_count": 26,
   "id": "21a7b7de",
   "metadata": {
    "scrolled": true
   },
   "outputs": [
    {
     "data": {
      "text/plain": [
       "<AxesSubplot:xlabel='기간차_숫자만'>"
      ]
     },
     "execution_count": 26,
     "metadata": {},
     "output_type": "execute_result"
    },
    {
     "data": {
      "image/png": "[encoded data removed]",
      "text/plain": [
       "<Figure size 432x288 with 1 Axes>"
      ]
     },
     "metadata": {
      "needs_background": "light"
     },
     "output_type": "display_data"
    }
   ],
   "source": [
    "# 배송기간 별 빈도수 시각화 \n",
    "plt.xlim(0,30)\n",
    "date.groupby(by = '기간차_숫자만').count()['기간차'].plot()"
   ]
  },
  {
   "cell_type": "code",
   "execution_count": 27,
   "id": "c32c99e1",
   "metadata": {
    "scrolled": true
   },
   "outputs": [
    {
     "data": {
      "text/plain": [
       "<AxesSubplot:xlabel='기간차_숫자만'>"
      ]
     },
     "execution_count": 27,
     "metadata": {},
     "output_type": "execute_result"
    },
    {
     "data": {
      "image/png": "[encoded data removed]",
      "text/plain": [
       "<Figure size 432x288 with 1 Axes>"
      ]
     },
     "metadata": {
      "needs_background": "light"
     },
     "output_type": "display_data"
    }
   ],
   "source": [
    "# 기간차 RANGE 미설정시 \n",
    "date.groupby(by = '기간차_숫자만').count()['기간차'].plot()"
   ]
  },
  {
   "cell_type": "code",
   "execution_count": 28,
   "id": "743c053b",
   "metadata": {
    "scrolled": false
   },
   "outputs": [
    {
     "data": {
      "text/plain": [
       "count    96476.000000\n",
       "mean        11.876881\n",
       "std         10.183854\n",
       "min       -188.000000\n",
       "25%          7.000000\n",
       "50%         12.000000\n",
       "75%         17.000000\n",
       "max        147.000000\n",
       "Name: 기간차_숫자만, dtype: float64"
      ]
     },
     "execution_count": 28,
     "metadata": {},
     "output_type": "execute_result"
    }
   ],
   "source": [
    "date['기간차_숫자만'].describe()"
   ]
  },
  {
   "cell_type": "markdown",
   "id": "b1ddf566",
   "metadata": {},
   "source": [
    "# 평균적으로 실제배송일 / 배송예측일 간 갭은 11일 정도 , \n",
    "11~15일 정도의 갭... \n",
    "왜 그런걸까? \n",
    "브라질은 항공운송이 발달하고 철도랑 이런게 발달이 안되어있음. 항공운송량이 많아서? 그런거 같음 "
   ]
  }
 ],
 "metadata": {
  "kernelspec": {
   "display_name": "Python 3 (ipykernel)",
   "language": "python",
   "name": "python3"
  },
  "language_info": {
   "codemirror_mode": {
    "name": "ipython",
    "version": 3
   },
   "file_extension": ".py",
   "mimetype": "text/x-python",
   "name": "python",
   "nbconvert_exporter": "python",
   "pygments_lexer": "ipython3",
   "version": "3.9.7"
  },
  "toc": {
   "base_numbering": 1,
   "nav_menu": {},
   "number_sections": true,
   "sideBar": true,
   "skip_h1_title": false,
   "title_cell": "Table of Contents",
   "title_sidebar": "Contents",
   "toc_cell": false,
   "toc_position": {},
   "toc_section_display": true,
   "toc_window_display": false
  },
  "varInspector": {
   "cols": {
    "lenName": 16,
    "lenType": 16,
    "lenVar": 40
   },
   "kernels_config": {
    "python": {
     "delete_cmd_postfix": "",
     "delete_cmd_prefix": "del ",
     "library": "var_list.py",
     "varRefreshCmd": "print(var_dic_list())"
    },
    "r": {
     "delete_cmd_postfix": ") ",
     "delete_cmd_prefix": "rm(",
     "library": "var_list.r",
     "varRefreshCmd": "cat(var_dic_list()) "
    }
   },
   "types_to_exclude": [
    "module",
    "function",
    "builtin_function_or_method",
    "instance",
    "_Feature"
   ],
   "window_display": false
  }
 },
 "nbformat": 4,
 "nbformat_minor": 5
}
