{
 "cells": [
  {
   "cell_type": "markdown",
   "id": "efb82e64-d0d6-46b2-88cc-ee823bd03fbe",
   "metadata": {},
   "source": [
    "# 0 데이터분석에 사용할 라이브러리 로드 "
   ]
  },
  {
   "cell_type": "code",
   "execution_count": 1,
   "id": "332b7841",
   "metadata": {},
   "outputs": [],
   "source": [
    "# 핑크색 warning 안내문 방지 \n",
    "import warnings\n",
    "warnings.filterwarnings('ignore')"
   ]
  },
  {
   "cell_type": "code",
   "execution_count": 2,
   "id": "48fa2d93",
   "metadata": {},
   "outputs": [],
   "source": [
    "# 데이터 분석에 사용할 라이브러리 로드 \n",
    "import pandas as pd\n",
    "import seaborn as sns\n",
    "import numpy as np\n",
    "import matplotlib.pyplot as plt\n",
    "import datetime as dt"
   ]
  },
  {
   "cell_type": "markdown",
   "id": "0df554d7-c431-42f4-a411-574ca77874fe",
   "metadata": {},
   "source": [
    "## cf) 폰트 설정"
   ]
  },
  {
   "cell_type": "code",
   "execution_count": 3,
   "id": "6cd2c95d",
   "metadata": {},
   "outputs": [],
   "source": [
    "def get_font_family():\n",
    "    \"\"\"\n",
    "    시스템 환경에 따른 기본 폰트명을 반환하는 함수\n",
    "    \"\"\"\n",
    "    import platform\n",
    "    system_name = platform.system()\n",
    "\n",
    "    if system_name == \"Darwin\" :\n",
    "        font_family = \"AppleGothic\"\n",
    "    elif system_name == \"Windows\":\n",
    "        font_family = \"Malgun Gothic\"\n",
    "    else:\n",
    "        # Linux(Colab)\n",
    "        !apt-get install fonts-nanum -qq  > /dev/null\n",
    "        !fc-cache -fv\n",
    "\n",
    "        import matplotlib as mpl\n",
    "        mpl.font_manager._rebuild()\n",
    "        findfont = mpl.font_manager.fontManager.findfont\n",
    "        mpl.font_manager.findfont = findfont\n",
    "        mpl.backends.backend_agg.findfont = findfont\n",
    "        \n",
    "        font_family = \"NanumBarunGothic\"\n",
    "    return font_family\n",
    "\n",
    "plt.rc(\"font\", family=get_font_family())\n",
    "plt.rc(\"axes\", unicode_minus=False)"
   ]
  },
  {
   "cell_type": "markdown",
   "id": "742c53ed-793f-4e31-897f-d3ab88144d18",
   "metadata": {},
   "source": [
    "# 1 데이터 셋 로드 "
   ]
  },
  {
   "cell_type": "code",
   "execution_count": 4,
   "id": "9a12f56b",
   "metadata": {},
   "outputs": [
    {
     "data": {
      "text/plain": [
       "['data\\\\olist_customers_dataset.csv',\n",
       " 'data\\\\olist_geolocation_dataset.csv',\n",
       " 'data\\\\olist_orders_dataset.csv',\n",
       " 'data\\\\olist_order_items_dataset.csv',\n",
       " 'data\\\\olist_order_payments_dataset.csv',\n",
       " 'data\\\\olist_order_reviews_dataset.csv',\n",
       " 'data\\\\olist_products_dataset.csv',\n",
       " 'data\\\\olist_sellers_dataset.csv',\n",
       " 'data\\\\product_category_name_translation.csv']"
      ]
     },
     "execution_count": 4,
     "metadata": {},
     "output_type": "execute_result"
    }
   ],
   "source": [
    "import glob\n",
    "path = glob.glob('data/*.csv')\n",
    "path"
   ]
  },
  {
   "cell_type": "code",
   "execution_count": 5,
   "id": "5e86cca1",
   "metadata": {},
   "outputs": [],
   "source": [
    "# 각각의 데이터셋 import \n",
    "df_customers = pd.read_csv(path[0])\n",
    "df_geolocation = pd.read_csv(path[1])\n",
    "df_orders = pd.read_csv(path[2])\n",
    "df_items = pd.read_csv(path[3])\n",
    "df_payments = pd.read_csv(path[4])\n",
    "df_reviews = pd.read_csv(path[5])\n",
    "df_products = pd.read_csv(path[6])\n",
    "df_sellers = pd.read_csv(path[7])\n",
    "df_category = pd.read_csv(path[8])"
   ]
  },
  {
   "cell_type": "markdown",
   "id": "55dc20de-8831-408f-8d5b-9b5b9318e48b",
   "metadata": {},
   "source": [
    "# 3 Merge를 이용해 각각의 데이터셋 병합 "
   ]
  },
  {
   "cell_type": "code",
   "execution_count": 7,
   "id": "62ea18b1",
   "metadata": {},
   "outputs": [],
   "source": [
    "# merge\n",
    "df = df_customers.merge(df_orders, on = 'customer_id', how = 'left')\n",
    "df = df.merge(df_items, on ='order_id', how = 'outer')\n",
    "df = df.merge(df_payments, on ='order_id', how = 'outer', validate ='m:m')\n",
    "df = df.merge(df_reviews, on ='order_id', how ='outer')\n",
    "df = df.merge(df_products, on ='product_id', how ='outer')\n",
    "df = df.merge(df_category, on ='product_category_name', how ='outer')"
   ]
  },
  {
   "cell_type": "code",
   "execution_count": 8,
   "id": "263a8fe8",
   "metadata": {},
   "outputs": [
    {
     "data": {
      "text/html": [
       "<div>\n",
       "<style scoped>\n",
       "    .dataframe tbody tr th:only-of-type {\n",
       "        vertical-align: middle;\n",
       "    }\n",
       "\n",
       "    .dataframe tbody tr th {\n",
       "        vertical-align: top;\n",
       "    }\n",
       "\n",
       "    .dataframe thead th {\n",
       "        text-align: right;\n",
       "    }\n",
       "</style>\n",
       "<table border=\"1\" class=\"dataframe\">\n",
       "  <thead>\n",
       "    <tr style=\"text-align: right;\">\n",
       "      <th></th>\n",
       "      <th>customer_id</th>\n",
       "      <th>customer_unique_id</th>\n",
       "      <th>customer_zip_code_prefix</th>\n",
       "      <th>customer_city</th>\n",
       "      <th>customer_state</th>\n",
       "      <th>order_id</th>\n",
       "      <th>order_status</th>\n",
       "      <th>order_purchase_timestamp</th>\n",
       "      <th>order_approved_at</th>\n",
       "      <th>order_delivered_carrier_date</th>\n",
       "      <th>...</th>\n",
       "      <th>review_answer_timestamp</th>\n",
       "      <th>product_category_name</th>\n",
       "      <th>product_name_lenght</th>\n",
       "      <th>product_description_lenght</th>\n",
       "      <th>product_photos_qty</th>\n",
       "      <th>product_weight_g</th>\n",
       "      <th>product_length_cm</th>\n",
       "      <th>product_height_cm</th>\n",
       "      <th>product_width_cm</th>\n",
       "      <th>product_category_name_english</th>\n",
       "    </tr>\n",
       "  </thead>\n",
       "  <tbody>\n",
       "    <tr>\n",
       "      <th>95426</th>\n",
       "      <td>492b8f095527d8bfed2668e923cb83de</td>\n",
       "      <td>ee175b014077193f736905fa78257494</td>\n",
       "      <td>12328</td>\n",
       "      <td>jacarei</td>\n",
       "      <td>SP</td>\n",
       "      <td>f98fd69be8fcd65fd0c873c48e21bc44</td>\n",
       "      <td>delivered</td>\n",
       "      <td>2018-07-20 07:59:33</td>\n",
       "      <td>2018-07-20 08:15:09</td>\n",
       "      <td>2018-07-20 13:21:00</td>\n",
       "      <td>...</td>\n",
       "      <td>2018-07-24 21:06:48</td>\n",
       "      <td>papelaria</td>\n",
       "      <td>55.0</td>\n",
       "      <td>441.0</td>\n",
       "      <td>2.0</td>\n",
       "      <td>8350.0</td>\n",
       "      <td>35.0</td>\n",
       "      <td>60.0</td>\n",
       "      <td>20.0</td>\n",
       "      <td>stationery</td>\n",
       "    </tr>\n",
       "  </tbody>\n",
       "</table>\n",
       "<p>1 rows × 37 columns</p>\n",
       "</div>"
      ],
      "text/plain": [
       "                            customer_id                customer_unique_id  \\\n",
       "95426  492b8f095527d8bfed2668e923cb83de  ee175b014077193f736905fa78257494   \n",
       "\n",
       "       customer_zip_code_prefix customer_city customer_state  \\\n",
       "95426                     12328       jacarei             SP   \n",
       "\n",
       "                               order_id order_status order_purchase_timestamp  \\\n",
       "95426  f98fd69be8fcd65fd0c873c48e21bc44    delivered      2018-07-20 07:59:33   \n",
       "\n",
       "         order_approved_at order_delivered_carrier_date  ...  \\\n",
       "95426  2018-07-20 08:15:09          2018-07-20 13:21:00  ...   \n",
       "\n",
       "      review_answer_timestamp product_category_name  product_name_lenght  \\\n",
       "95426     2018-07-24 21:06:48             papelaria                 55.0   \n",
       "\n",
       "      product_description_lenght product_photos_qty product_weight_g  \\\n",
       "95426                      441.0                2.0           8350.0   \n",
       "\n",
       "       product_length_cm  product_height_cm  product_width_cm  \\\n",
       "95426               35.0               60.0              20.0   \n",
       "\n",
       "      product_category_name_english  \n",
       "95426                    stationery  \n",
       "\n",
       "[1 rows x 37 columns]"
      ]
     },
     "execution_count": 8,
     "metadata": {},
     "output_type": "execute_result"
    }
   ],
   "source": [
    "#잘 병합 되었는지 확인\n",
    "df.sample()"
   ]
  },
  {
   "cell_type": "markdown",
   "id": "1724ea60-5f2b-4390-b5fb-35fe4f8dda00",
   "metadata": {},
   "source": [
    "# 4 데이터셋 정보 확인"
   ]
  },
  {
   "cell_type": "code",
   "execution_count": 12,
   "id": "482ab8dd-412a-478e-b750-0feffbfb62a5",
   "metadata": {},
   "outputs": [
    {
     "data": {
      "text/plain": [
       "(119143, 37)"
      ]
     },
     "execution_count": 12,
     "metadata": {},
     "output_type": "execute_result"
    }
   ],
   "source": [
    "df.shape"
   ]
  },
  {
   "cell_type": "code",
   "execution_count": 9,
   "id": "5561fceb-0eea-4a2e-8910-34f79e087528",
   "metadata": {},
   "outputs": [
    {
     "name": "stdout",
     "output_type": "stream",
     "text": [
      "<class 'pandas.core.frame.DataFrame'>\n",
      "Int64Index: 119143 entries, 0 to 119142\n",
      "Data columns (total 37 columns):\n",
      " #   Column                         Non-Null Count   Dtype  \n",
      "---  ------                         --------------   -----  \n",
      " 0   customer_id                    119143 non-null  object \n",
      " 1   customer_unique_id             119143 non-null  object \n",
      " 2   customer_zip_code_prefix       119143 non-null  int64  \n",
      " 3   customer_city                  119143 non-null  object \n",
      " 4   customer_state                 119143 non-null  object \n",
      " 5   order_id                       119143 non-null  object \n",
      " 6   order_status                   119143 non-null  object \n",
      " 7   order_purchase_timestamp       119143 non-null  object \n",
      " 8   order_approved_at              118966 non-null  object \n",
      " 9   order_delivered_carrier_date   117057 non-null  object \n",
      " 10  order_delivered_customer_date  115722 non-null  object \n",
      " 11  order_estimated_delivery_date  119143 non-null  object \n",
      " 12  order_item_id                  118310 non-null  float64\n",
      " 13  product_id                     118310 non-null  object \n",
      " 14  seller_id                      118310 non-null  object \n",
      " 15  shipping_limit_date            118310 non-null  object \n",
      " 16  price                          118310 non-null  float64\n",
      " 17  freight_value                  118310 non-null  float64\n",
      " 18  payment_sequential             119140 non-null  float64\n",
      " 19  payment_type                   119140 non-null  object \n",
      " 20  payment_installments           119140 non-null  float64\n",
      " 21  payment_value                  119140 non-null  float64\n",
      " 22  review_id                      118146 non-null  object \n",
      " 23  review_score                   118146 non-null  float64\n",
      " 24  review_comment_title           13989 non-null   object \n",
      " 25  review_comment_message         50245 non-null   object \n",
      " 26  review_creation_date           118146 non-null  object \n",
      " 27  review_answer_timestamp        118146 non-null  object \n",
      " 28  product_category_name          116601 non-null  object \n",
      " 29  product_name_lenght            116601 non-null  float64\n",
      " 30  product_description_lenght     116601 non-null  float64\n",
      " 31  product_photos_qty             116601 non-null  float64\n",
      " 32  product_weight_g               118290 non-null  float64\n",
      " 33  product_length_cm              118290 non-null  float64\n",
      " 34  product_height_cm              118290 non-null  float64\n",
      " 35  product_width_cm               118290 non-null  float64\n",
      " 36  product_category_name_english  116576 non-null  object \n",
      "dtypes: float64(14), int64(1), object(22)\n",
      "memory usage: 34.5+ MB\n"
     ]
    }
   ],
   "source": [
    "df.info()"
   ]
  },
  {
   "cell_type": "code",
   "execution_count": 10,
   "id": "2608950d-6ef8-480c-a867-787389c8a83b",
   "metadata": {},
   "outputs": [
    {
     "data": {
      "text/html": [
       "<div>\n",
       "<style scoped>\n",
       "    .dataframe tbody tr th:only-of-type {\n",
       "        vertical-align: middle;\n",
       "    }\n",
       "\n",
       "    .dataframe tbody tr th {\n",
       "        vertical-align: top;\n",
       "    }\n",
       "\n",
       "    .dataframe thead th {\n",
       "        text-align: right;\n",
       "    }\n",
       "</style>\n",
       "<table border=\"1\" class=\"dataframe\">\n",
       "  <thead>\n",
       "    <tr style=\"text-align: right;\">\n",
       "      <th></th>\n",
       "      <th>customer_id</th>\n",
       "      <th>customer_unique_id</th>\n",
       "      <th>customer_zip_code_prefix</th>\n",
       "      <th>customer_city</th>\n",
       "      <th>customer_state</th>\n",
       "      <th>order_id</th>\n",
       "      <th>order_status</th>\n",
       "      <th>order_purchase_timestamp</th>\n",
       "      <th>order_approved_at</th>\n",
       "      <th>order_delivered_carrier_date</th>\n",
       "      <th>...</th>\n",
       "      <th>review_answer_timestamp</th>\n",
       "      <th>product_category_name</th>\n",
       "      <th>product_name_lenght</th>\n",
       "      <th>product_description_lenght</th>\n",
       "      <th>product_photos_qty</th>\n",
       "      <th>product_weight_g</th>\n",
       "      <th>product_length_cm</th>\n",
       "      <th>product_height_cm</th>\n",
       "      <th>product_width_cm</th>\n",
       "      <th>product_category_name_english</th>\n",
       "    </tr>\n",
       "  </thead>\n",
       "  <tbody>\n",
       "    <tr>\n",
       "      <th>0</th>\n",
       "      <td>06b8999e2fba1a1fbc88172c00ba8bc7</td>\n",
       "      <td>861eff4711a542e4b93843c6dd7febb0</td>\n",
       "      <td>14409</td>\n",
       "      <td>franca</td>\n",
       "      <td>SP</td>\n",
       "      <td>00e7ee1b050b8499577073aeb2a297a1</td>\n",
       "      <td>delivered</td>\n",
       "      <td>2017-05-16 15:05:35</td>\n",
       "      <td>2017-05-16 15:22:12</td>\n",
       "      <td>2017-05-23 10:47:57</td>\n",
       "      <td>...</td>\n",
       "      <td>2017-05-30 22:34:40</td>\n",
       "      <td>moveis_escritorio</td>\n",
       "      <td>41.0</td>\n",
       "      <td>1141.0</td>\n",
       "      <td>1.0</td>\n",
       "      <td>8683.0</td>\n",
       "      <td>54.0</td>\n",
       "      <td>64.0</td>\n",
       "      <td>31.0</td>\n",
       "      <td>office_furniture</td>\n",
       "    </tr>\n",
       "    <tr>\n",
       "      <th>1</th>\n",
       "      <td>8912fc0c3bbf1e2fbf35819e21706718</td>\n",
       "      <td>9eae34bbd3a474ec5d07949ca7de67c0</td>\n",
       "      <td>68030</td>\n",
       "      <td>santarem</td>\n",
       "      <td>PA</td>\n",
       "      <td>c1d2b34febe9cd269e378117d6681172</td>\n",
       "      <td>delivered</td>\n",
       "      <td>2017-11-09 00:50:13</td>\n",
       "      <td>2017-11-10 00:47:48</td>\n",
       "      <td>2017-11-22 01:43:37</td>\n",
       "      <td>...</td>\n",
       "      <td>2017-12-01 19:41:59</td>\n",
       "      <td>moveis_escritorio</td>\n",
       "      <td>41.0</td>\n",
       "      <td>1141.0</td>\n",
       "      <td>1.0</td>\n",
       "      <td>8683.0</td>\n",
       "      <td>54.0</td>\n",
       "      <td>64.0</td>\n",
       "      <td>31.0</td>\n",
       "      <td>office_furniture</td>\n",
       "    </tr>\n",
       "  </tbody>\n",
       "</table>\n",
       "<p>2 rows × 37 columns</p>\n",
       "</div>"
      ],
      "text/plain": [
       "                        customer_id                customer_unique_id  \\\n",
       "0  06b8999e2fba1a1fbc88172c00ba8bc7  861eff4711a542e4b93843c6dd7febb0   \n",
       "1  8912fc0c3bbf1e2fbf35819e21706718  9eae34bbd3a474ec5d07949ca7de67c0   \n",
       "\n",
       "   customer_zip_code_prefix customer_city customer_state  \\\n",
       "0                     14409        franca             SP   \n",
       "1                     68030      santarem             PA   \n",
       "\n",
       "                           order_id order_status order_purchase_timestamp  \\\n",
       "0  00e7ee1b050b8499577073aeb2a297a1    delivered      2017-05-16 15:05:35   \n",
       "1  c1d2b34febe9cd269e378117d6681172    delivered      2017-11-09 00:50:13   \n",
       "\n",
       "     order_approved_at order_delivered_carrier_date  ...  \\\n",
       "0  2017-05-16 15:22:12          2017-05-23 10:47:57  ...   \n",
       "1  2017-11-10 00:47:48          2017-11-22 01:43:37  ...   \n",
       "\n",
       "  review_answer_timestamp product_category_name  product_name_lenght  \\\n",
       "0     2017-05-30 22:34:40     moveis_escritorio                 41.0   \n",
       "1     2017-12-01 19:41:59     moveis_escritorio                 41.0   \n",
       "\n",
       "  product_description_lenght product_photos_qty product_weight_g  \\\n",
       "0                     1141.0                1.0           8683.0   \n",
       "1                     1141.0                1.0           8683.0   \n",
       "\n",
       "   product_length_cm  product_height_cm  product_width_cm  \\\n",
       "0               54.0               64.0              31.0   \n",
       "1               54.0               64.0              31.0   \n",
       "\n",
       "  product_category_name_english  \n",
       "0              office_furniture  \n",
       "1              office_furniture  \n",
       "\n",
       "[2 rows x 37 columns]"
      ]
     },
     "execution_count": 10,
     "metadata": {},
     "output_type": "execute_result"
    }
   ],
   "source": [
    "df.head(2)"
   ]
  },
  {
   "cell_type": "code",
   "execution_count": 11,
   "id": "564fd831-2d96-4894-86cd-95f12b1aab0d",
   "metadata": {},
   "outputs": [
    {
     "data": {
      "text/html": [
       "<div>\n",
       "<style scoped>\n",
       "    .dataframe tbody tr th:only-of-type {\n",
       "        vertical-align: middle;\n",
       "    }\n",
       "\n",
       "    .dataframe tbody tr th {\n",
       "        vertical-align: top;\n",
       "    }\n",
       "\n",
       "    .dataframe thead th {\n",
       "        text-align: right;\n",
       "    }\n",
       "</style>\n",
       "<table border=\"1\" class=\"dataframe\">\n",
       "  <thead>\n",
       "    <tr style=\"text-align: right;\">\n",
       "      <th></th>\n",
       "      <th>customer_id</th>\n",
       "      <th>customer_unique_id</th>\n",
       "      <th>customer_zip_code_prefix</th>\n",
       "      <th>customer_city</th>\n",
       "      <th>customer_state</th>\n",
       "      <th>order_id</th>\n",
       "      <th>order_status</th>\n",
       "      <th>order_purchase_timestamp</th>\n",
       "      <th>order_approved_at</th>\n",
       "      <th>order_delivered_carrier_date</th>\n",
       "      <th>...</th>\n",
       "      <th>review_answer_timestamp</th>\n",
       "      <th>product_category_name</th>\n",
       "      <th>product_name_lenght</th>\n",
       "      <th>product_description_lenght</th>\n",
       "      <th>product_photos_qty</th>\n",
       "      <th>product_weight_g</th>\n",
       "      <th>product_length_cm</th>\n",
       "      <th>product_height_cm</th>\n",
       "      <th>product_width_cm</th>\n",
       "      <th>product_category_name_english</th>\n",
       "    </tr>\n",
       "  </thead>\n",
       "  <tbody>\n",
       "    <tr>\n",
       "      <th>119141</th>\n",
       "      <td>363d3a9b2ec5c5426608688ca033292d</td>\n",
       "      <td>d8bee9ec375c3a0f9ef8ed7456a51dcd</td>\n",
       "      <td>76940</td>\n",
       "      <td>rolim de moura</td>\n",
       "      <td>RO</td>\n",
       "      <td>2c4ada2e75c2ad41dd93cebb5df5f023</td>\n",
       "      <td>delivered</td>\n",
       "      <td>2017-01-26 11:09:00</td>\n",
       "      <td>2017-01-26 11:22:17</td>\n",
       "      <td>2017-01-27 14:59:35</td>\n",
       "      <td>...</td>\n",
       "      <td>2017-02-16 02:54:35</td>\n",
       "      <td>seguros_e_servicos</td>\n",
       "      <td>55.0</td>\n",
       "      <td>506.0</td>\n",
       "      <td>1.0</td>\n",
       "      <td>1225.0</td>\n",
       "      <td>27.0</td>\n",
       "      <td>35.0</td>\n",
       "      <td>15.0</td>\n",
       "      <td>security_and_services</td>\n",
       "    </tr>\n",
       "    <tr>\n",
       "      <th>119142</th>\n",
       "      <td>919570a26efbd068d6a0f66d5c5072a3</td>\n",
       "      <td>141e824b8e0df709e3fcf6d982225a8e</td>\n",
       "      <td>71940</td>\n",
       "      <td>brasilia</td>\n",
       "      <td>DF</td>\n",
       "      <td>bede3503afed051733eeb4a84d1adcc5</td>\n",
       "      <td>delivered</td>\n",
       "      <td>2017-09-17 16:51:43</td>\n",
       "      <td>2017-09-19 04:05:52</td>\n",
       "      <td>2017-09-19 20:22:49</td>\n",
       "      <td>...</td>\n",
       "      <td>2017-09-30 20:49:37</td>\n",
       "      <td>seguros_e_servicos</td>\n",
       "      <td>48.0</td>\n",
       "      <td>461.0</td>\n",
       "      <td>4.0</td>\n",
       "      <td>400.0</td>\n",
       "      <td>26.0</td>\n",
       "      <td>22.0</td>\n",
       "      <td>11.0</td>\n",
       "      <td>security_and_services</td>\n",
       "    </tr>\n",
       "  </tbody>\n",
       "</table>\n",
       "<p>2 rows × 37 columns</p>\n",
       "</div>"
      ],
      "text/plain": [
       "                             customer_id                customer_unique_id  \\\n",
       "119141  363d3a9b2ec5c5426608688ca033292d  d8bee9ec375c3a0f9ef8ed7456a51dcd   \n",
       "119142  919570a26efbd068d6a0f66d5c5072a3  141e824b8e0df709e3fcf6d982225a8e   \n",
       "\n",
       "        customer_zip_code_prefix   customer_city customer_state  \\\n",
       "119141                     76940  rolim de moura             RO   \n",
       "119142                     71940        brasilia             DF   \n",
       "\n",
       "                                order_id order_status  \\\n",
       "119141  2c4ada2e75c2ad41dd93cebb5df5f023    delivered   \n",
       "119142  bede3503afed051733eeb4a84d1adcc5    delivered   \n",
       "\n",
       "       order_purchase_timestamp    order_approved_at  \\\n",
       "119141      2017-01-26 11:09:00  2017-01-26 11:22:17   \n",
       "119142      2017-09-17 16:51:43  2017-09-19 04:05:52   \n",
       "\n",
       "       order_delivered_carrier_date  ... review_answer_timestamp  \\\n",
       "119141          2017-01-27 14:59:35  ...     2017-02-16 02:54:35   \n",
       "119142          2017-09-19 20:22:49  ...     2017-09-30 20:49:37   \n",
       "\n",
       "       product_category_name  product_name_lenght product_description_lenght  \\\n",
       "119141    seguros_e_servicos                 55.0                      506.0   \n",
       "119142    seguros_e_servicos                 48.0                      461.0   \n",
       "\n",
       "       product_photos_qty product_weight_g  product_length_cm  \\\n",
       "119141                1.0           1225.0               27.0   \n",
       "119142                4.0            400.0               26.0   \n",
       "\n",
       "        product_height_cm  product_width_cm product_category_name_english  \n",
       "119141               35.0              15.0         security_and_services  \n",
       "119142               22.0              11.0         security_and_services  \n",
       "\n",
       "[2 rows x 37 columns]"
      ]
     },
     "execution_count": 11,
     "metadata": {},
     "output_type": "execute_result"
    }
   ],
   "source": [
    "df.tail(2)"
   ]
  },
  {
   "cell_type": "code",
   "execution_count": 13,
   "id": "15213a6c-9536-4be3-8426-0ded5e6832bd",
   "metadata": {},
   "outputs": [
    {
     "data": {
      "image/png": "[encoded data removed]",
      "text/plain": [
       "<Figure size 1440x1080 with 16 Axes>"
      ]
     },
     "metadata": {
      "needs_background": "light"
     },
     "output_type": "display_data"
    }
   ],
   "source": [
    "_ = df.hist(figsize=(20, 15), bins=100)"
   ]
  },
  {
   "cell_type": "code",
   "execution_count": 15,
   "id": "08026a7f-aaa7-4482-8c35-18c5d91d7cf6",
   "metadata": {},
   "outputs": [
    {
     "data": {
      "text/plain": [
       "customer_id                           0\n",
       "customer_unique_id                    0\n",
       "customer_zip_code_prefix              0\n",
       "customer_city                         0\n",
       "customer_state                        0\n",
       "order_id                              0\n",
       "order_status                          0\n",
       "order_purchase_timestamp              0\n",
       "order_approved_at                   177\n",
       "order_delivered_carrier_date       2086\n",
       "order_delivered_customer_date      3421\n",
       "order_estimated_delivery_date         0\n",
       "order_item_id                       833\n",
       "product_id                          833\n",
       "seller_id                           833\n",
       "shipping_limit_date                 833\n",
       "price                               833\n",
       "freight_value                       833\n",
       "payment_sequential                    3\n",
       "payment_type                          3\n",
       "payment_installments                  3\n",
       "payment_value                         3\n",
       "review_id                           997\n",
       "review_score                        997\n",
       "review_comment_title             105154\n",
       "review_comment_message            68898\n",
       "review_creation_date                997\n",
       "review_answer_timestamp             997\n",
       "product_category_name              2542\n",
       "product_name_lenght                2542\n",
       "product_description_lenght         2542\n",
       "product_photos_qty                 2542\n",
       "product_weight_g                    853\n",
       "product_length_cm                   853\n",
       "product_height_cm                   853\n",
       "product_width_cm                    853\n",
       "product_category_name_english      2567\n",
       "dtype: int64"
      ]
     },
     "execution_count": 15,
     "metadata": {},
     "output_type": "execute_result"
    }
   ],
   "source": [
    "df.isna().sum()"
   ]
  },
  {
   "cell_type": "code",
   "execution_count": 16,
   "id": "77c15c89-315c-4045-88b8-a3fe90f37717",
   "metadata": {},
   "outputs": [
    {
     "data": {
      "image/png": "[encoded data removed]",
      "text/plain": [
       "<Figure size 576x360 with 2 Axes>"
      ]
     },
     "metadata": {
      "needs_background": "light"
     },
     "output_type": "display_data"
    }
   ],
   "source": [
    "plt.figure(figsize = (8, 5))\n",
    "sns.heatmap(df.isnull())\n",
    "plt.show()"
   ]
  }
 ],
 "metadata": {
  "kernelspec": {
   "display_name": "Python 3 (ipykernel)",
   "language": "python",
   "name": "python3"
  },
  "language_info": {
   "codemirror_mode": {
    "name": "ipython",
    "version": 3
   },
   "file_extension": ".py",
   "mimetype": "text/x-python",
   "name": "python",
   "nbconvert_exporter": "python",
   "pygments_lexer": "ipython3",
   "version": "3.9.7"
  },
  "toc": {
   "base_numbering": 1,
   "nav_menu": {},
   "number_sections": true,
   "sideBar": true,
   "skip_h1_title": false,
   "title_cell": "Table of Contents",
   "title_sidebar": "Contents",
   "toc_cell": false,
   "toc_position": {},
   "toc_section_display": true,
   "toc_window_display": false
  },
  "varInspector": {
   "cols": {
    "lenName": 16,
    "lenType": 16,
    "lenVar": 40
   },
   "kernels_config": {
    "python": {
     "delete_cmd_postfix": "",
     "delete_cmd_prefix": "del ",
     "library": "var_list.py",
     "varRefreshCmd": "print(var_dic_list())"
    },
    "r": {
     "delete_cmd_postfix": ") ",
     "delete_cmd_prefix": "rm(",
     "library": "var_list.r",
     "varRefreshCmd": "cat(var_dic_list()) "
    }
   },
   "types_to_exclude": [
    "module",
    "function",
    "builtin_function_or_method",
    "instance",
    "_Feature"
   ],
   "window_display": false
  }
 },
 "nbformat": 4,
 "nbformat_minor": 5
}
